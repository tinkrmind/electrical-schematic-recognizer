{
 "cells": [
  {
   "cell_type": "code",
   "execution_count": 6,
   "metadata": {},
   "outputs": [
    {
     "name": "stdout",
     "output_type": "stream",
     "text": [
      "WARNING:tensorflow:From <ipython-input-6-ee3d560f2442>:5: read_data_sets (from tensorflow.contrib.learn.python.learn.datasets.mnist) is deprecated and will be removed in a future version.\n",
      "Instructions for updating:\n",
      "Please use alternatives such as official/mnist/dataset.py from tensorflow/models.\n",
      "WARNING:tensorflow:From C:\\Users\\amita\\Anaconda3\\lib\\site-packages\\tensorflow\\contrib\\learn\\python\\learn\\datasets\\mnist.py:260: maybe_download (from tensorflow.contrib.learn.python.learn.datasets.base) is deprecated and will be removed in a future version.\n",
      "Instructions for updating:\n",
      "Please write your own downloading logic.\n",
      "WARNING:tensorflow:From C:\\Users\\amita\\Anaconda3\\lib\\site-packages\\tensorflow\\contrib\\learn\\python\\learn\\datasets\\mnist.py:262: extract_images (from tensorflow.contrib.learn.python.learn.datasets.mnist) is deprecated and will be removed in a future version.\n",
      "Instructions for updating:\n",
      "Please use tf.data to implement this functionality.\n",
      "Extracting ./JPG-PNG-to-MNIST-NN-Format-master/train-images-idx3-ubyte.gz\n",
      "WARNING:tensorflow:From C:\\Users\\amita\\Anaconda3\\lib\\site-packages\\tensorflow\\contrib\\learn\\python\\learn\\datasets\\mnist.py:267: extract_labels (from tensorflow.contrib.learn.python.learn.datasets.mnist) is deprecated and will be removed in a future version.\n",
      "Instructions for updating:\n",
      "Please use tf.data to implement this functionality.\n",
      "Extracting ./JPG-PNG-to-MNIST-NN-Format-master/train-labels-idx1-ubyte.gz\n",
      "Extracting ./JPG-PNG-to-MNIST-NN-Format-master/t10k-images-idx3-ubyte.gz\n",
      "Extracting ./JPG-PNG-to-MNIST-NN-Format-master/t10k-labels-idx1-ubyte.gz\n",
      "WARNING:tensorflow:From C:\\Users\\amita\\Anaconda3\\lib\\site-packages\\tensorflow\\contrib\\learn\\python\\learn\\datasets\\mnist.py:290: DataSet.__init__ (from tensorflow.contrib.learn.python.learn.datasets.mnist) is deprecated and will be removed in a future version.\n",
      "Instructions for updating:\n",
      "Please use alternatives such as official/mnist/dataset.py from tensorflow/models.\n"
     ]
    }
   ],
   "source": [
    "from __future__ import division, print_function, absolute_import\n",
    "\n",
    "# Import MNIST data\n",
    "from tensorflow.examples.tutorials.mnist import input_data\n",
    "mnist = input_data.read_data_sets('./JPG-PNG-to-MNIST-NN-Format-master/', one_hot=False)\n",
    "\n",
    "import tensorflow as tf\n",
    "import matplotlib.pyplot as plt\n",
    "import numpy as np"
   ]
  },
  {
   "cell_type": "code",
   "execution_count": 7,
   "metadata": {},
   "outputs": [],
   "source": [
    "# Training Parameters\n",
    "learning_rate = 0.001\n",
    "num_steps = 500\n",
    "batch_size = 16\n",
    "\n",
    "# Network Parameters\n",
    "num_input = 784 # MNIST data input (img shape: 28*28)\n",
    "num_classes = 19 # MNIST total classes (0-9 digits)\n",
    "dropout = 0.25 # Dropout, probability to drop a unit"
   ]
  },
  {
   "cell_type": "code",
   "execution_count": 8,
   "metadata": {},
   "outputs": [],
   "source": [
    "# Create the neural network\n",
    "def conv_net(x_dict, n_classes, dropout, reuse, is_training):\n",
    "    \n",
    "    # Define a scope for reusing the variables\n",
    "    with tf.variable_scope('ConvNet', reuse=reuse):\n",
    "        # TF Estimator input is a dict, in case of multiple inputs\n",
    "        x = x_dict['images']\n",
    "\n",
    "        # MNIST data input is a 1-D vector of 784 features (28*28 pixels)\n",
    "        # Reshape to match picture format [Height x Width x Channel]\n",
    "        # Tensor input become 4-D: [Batch Size, Height, Width, Channel]\n",
    "        x = tf.reshape(x, shape=[-1, 28, 28, 1])\n",
    "\n",
    "        # Convolution Layer with 32 filters and a kernel size of 5\n",
    "        conv1 = tf.layers.conv2d(x, 32, 5, activation=tf.nn.relu)\n",
    "        # Max Pooling (down-sampling) with strides of 2 and kernel size of 2\n",
    "        conv1 = tf.layers.max_pooling2d(conv1, 2, 2)\n",
    "\n",
    "        # Convolution Layer with 64 filters and a kernel size of 3\n",
    "        conv2 = tf.layers.conv2d(conv1, 64, 3, activation=tf.nn.relu)\n",
    "        # Max Pooling (down-sampling) with strides of 2 and kernel size of 2\n",
    "        conv2 = tf.layers.max_pooling2d(conv2, 2, 2)\n",
    "\n",
    "        # Flatten the data to a 1-D vector for the fully connected layer\n",
    "        fc1 = tf.contrib.layers.flatten(conv2)\n",
    "\n",
    "        # Fully connected layer (in tf contrib folder for now)\n",
    "        fc1 = tf.layers.dense(fc1, 1024)\n",
    "        # Apply Dropout (if is_training is False, dropout is not applied)\n",
    "        fc1 = tf.layers.dropout(fc1, rate=dropout, training=is_training)\n",
    "\n",
    "        # Output layer, class prediction\n",
    "        out = tf.layers.dense(fc1, n_classes)\n",
    "\n",
    "    return out"
   ]
  },
  {
   "cell_type": "code",
   "execution_count": 9,
   "metadata": {},
   "outputs": [],
   "source": [
    "# Define the model function (following TF Estimator Template)\n",
    "def model_fn(features, labels, mode):\n",
    "    \n",
    "    # Build the neural network\n",
    "    # Because Dropout have different behavior at training and prediction time, we\n",
    "    # need to create 2 distinct computation graphs that still share the same weights.\n",
    "    logits_train = conv_net(features, num_classes, dropout, reuse=False, is_training=True)\n",
    "    logits_test = conv_net(features, num_classes, dropout, reuse=True, is_training=False)\n",
    "    \n",
    "    # Predictions\n",
    "    pred_classes = tf.argmax(logits_test, axis=1)\n",
    "    pred_probas = tf.nn.softmax(logits_test)\n",
    "    \n",
    "    # If prediction mode, early return\n",
    "    if mode == tf.estimator.ModeKeys.PREDICT:\n",
    "        return tf.estimator.EstimatorSpec(mode, predictions=pred_classes) \n",
    "        \n",
    "    # Define loss and optimizer\n",
    "    loss_op = tf.reduce_mean(tf.nn.sparse_softmax_cross_entropy_with_logits(\n",
    "        logits=logits_train, labels=tf.cast(labels, dtype=tf.int32)))\n",
    "    optimizer = tf.train.AdamOptimizer(learning_rate=learning_rate)\n",
    "    train_op = optimizer.minimize(loss_op, global_step=tf.train.get_global_step())\n",
    "    \n",
    "    # Evaluate the accuracy of the model\n",
    "    acc_op = tf.metrics.accuracy(labels=labels, predictions=pred_classes)\n",
    "    \n",
    "    # TF Estimators requires to return a EstimatorSpec, that specify\n",
    "    # the different ops for training, evaluating, ...\n",
    "    estim_specs = tf.estimator.EstimatorSpec(\n",
    "      mode=mode,\n",
    "      predictions=pred_classes,\n",
    "      loss=loss_op,\n",
    "      train_op=train_op,\n",
    "      eval_metric_ops={'accuracy': acc_op})\n",
    "\n",
    "    return estim_specs"
   ]
  },
  {
   "cell_type": "code",
   "execution_count": 10,
   "metadata": {},
   "outputs": [
    {
     "name": "stdout",
     "output_type": "stream",
     "text": [
      "INFO:tensorflow:Using default config.\n",
      "WARNING:tensorflow:Using temporary folder as model directory: C:\\Users\\amita\\AppData\\Local\\Temp\\tmp8r232f9j\n",
      "INFO:tensorflow:Using config: {'_model_dir': 'C:\\\\Users\\\\amita\\\\AppData\\\\Local\\\\Temp\\\\tmp8r232f9j', '_tf_random_seed': None, '_save_summary_steps': 100, '_save_checkpoints_steps': None, '_save_checkpoints_secs': 600, '_session_config': None, '_keep_checkpoint_max': 5, '_keep_checkpoint_every_n_hours': 10000, '_log_step_count_steps': 100, '_train_distribute': None, '_device_fn': None, '_service': None, '_cluster_spec': <tensorflow.python.training.server_lib.ClusterSpec object at 0x00000179BF5A7EB8>, '_task_type': 'worker', '_task_id': 0, '_global_id_in_cluster': 0, '_master': '', '_evaluation_master': '', '_is_chief': True, '_num_ps_replicas': 0, '_num_worker_replicas': 1}\n"
     ]
    }
   ],
   "source": [
    "# Build the Estimator\n",
    "model = tf.estimator.Estimator(model_fn)"
   ]
  },
  {
   "cell_type": "code",
   "execution_count": 11,
   "metadata": {},
   "outputs": [
    {
     "name": "stdout",
     "output_type": "stream",
     "text": [
      "INFO:tensorflow:Calling model_fn.\n",
      "INFO:tensorflow:Done calling model_fn.\n",
      "INFO:tensorflow:Create CheckpointSaverHook.\n",
      "INFO:tensorflow:Graph was finalized.\n",
      "INFO:tensorflow:Running local_init_op.\n",
      "INFO:tensorflow:Done running local_init_op.\n",
      "INFO:tensorflow:Saving checkpoints for 0 into C:\\Users\\amita\\AppData\\Local\\Temp\\tmp8r232f9j\\model.ckpt.\n",
      "INFO:tensorflow:loss = 3.0175428, step = 1\n",
      "INFO:tensorflow:global_step/sec: 38.8776\n",
      "INFO:tensorflow:loss = 0.06605713, step = 101 (2.574 sec)\n",
      "INFO:tensorflow:global_step/sec: 48.2509\n",
      "INFO:tensorflow:loss = 0.020131167, step = 201 (2.072 sec)\n",
      "INFO:tensorflow:global_step/sec: 45.7624\n",
      "INFO:tensorflow:loss = 0.0034285057, step = 301 (2.185 sec)\n",
      "INFO:tensorflow:global_step/sec: 46.3977\n",
      "INFO:tensorflow:loss = 0.006337652, step = 401 (2.156 sec)\n",
      "INFO:tensorflow:Saving checkpoints for 500 into C:\\Users\\amita\\AppData\\Local\\Temp\\tmp8r232f9j\\model.ckpt.\n",
      "INFO:tensorflow:Loss for final step: 0.016379602.\n"
     ]
    },
    {
     "data": {
      "text/plain": [
       "<tensorflow.python.estimator.estimator.Estimator at 0x179bf5a7e10>"
      ]
     },
     "execution_count": 11,
     "metadata": {},
     "output_type": "execute_result"
    }
   ],
   "source": [
    "# Define the input function for training\n",
    "input_fn = tf.estimator.inputs.numpy_input_fn(\n",
    "    x={'images': mnist.train.images}, y=mnist.train.labels,\n",
    "    batch_size=batch_size, num_epochs=None, shuffle=True)\n",
    "# Train the Model\n",
    "model.train(input_fn, steps=num_steps)"
   ]
  },
  {
   "cell_type": "code",
   "execution_count": 20,
   "metadata": {},
   "outputs": [
    {
     "name": "stdout",
     "output_type": "stream",
     "text": [
      "INFO:tensorflow:Calling model_fn.\n",
      "INFO:tensorflow:Done calling model_fn.\n",
      "INFO:tensorflow:Starting evaluation at 2018-12-11-03:19:47\n",
      "INFO:tensorflow:Graph was finalized.\n",
      "INFO:tensorflow:Restoring parameters from C:\\Users\\amita\\AppData\\Local\\Temp\\tmpijzm4ahh\\model.ckpt-500\n",
      "INFO:tensorflow:Running local_init_op.\n",
      "INFO:tensorflow:Done running local_init_op.\n",
      "INFO:tensorflow:Finished evaluation at 2018-12-11-03:19:49\n",
      "INFO:tensorflow:Saving dict for global step 500: accuracy = 0.98269296, global_step = 500, loss = 0.05977647\n",
      "INFO:tensorflow:Saving 'checkpoint_path' summary for global step 500: C:\\Users\\amita\\AppData\\Local\\Temp\\tmpijzm4ahh\\model.ckpt-500\n"
     ]
    },
    {
     "data": {
      "text/plain": [
       "{'accuracy': 0.98269296, 'loss': 0.05977647, 'global_step': 500}"
      ]
     },
     "execution_count": 20,
     "metadata": {},
     "output_type": "execute_result"
    }
   ],
   "source": [
    "# Evaluate the Model\n",
    "# Define the input function for evaluating\n",
    "input_fn = tf.estimator.inputs.numpy_input_fn(\n",
    "    x={'images': mnist.test.images}, y=mnist.test.labels,\n",
    "    batch_size=batch_size, shuffle=False)\n",
    "# Use the Estimator 'evaluate' method\n",
    "model.evaluate(input_fn)"
   ]
  },
  {
   "cell_type": "code",
   "execution_count": 13,
   "metadata": {},
   "outputs": [
    {
     "name": "stdout",
     "output_type": "stream",
     "text": [
      "INFO:tensorflow:Calling model_fn.\n",
      "INFO:tensorflow:Done calling model_fn.\n",
      "INFO:tensorflow:Graph was finalized.\n",
      "INFO:tensorflow:Restoring parameters from C:\\Users\\amita\\AppData\\Local\\Temp\\tmp8r232f9j\\model.ckpt-500\n",
      "INFO:tensorflow:Running local_init_op.\n",
      "INFO:tensorflow:Done running local_init_op.\n"
     ]
    },
    {
     "data": {
      "image/png": "[encoded data removed]",
      "text/plain": [
       "<Figure size 432x288 with 1 Axes>"
      ]
     },
     "metadata": {
      "needs_background": "light"
     },
     "output_type": "display_data"
    },
    {
     "name": "stdout",
     "output_type": "stream",
     "text": [
      "Model prediction: amp_horz\n"
     ]
    },
    {
     "data": {
      "image/png": "[encoded data removed]",
      "text/plain": [
       "<Figure size 432x288 with 1 Axes>"
      ]
     },
     "metadata": {
      "needs_background": "light"
     },
     "output_type": "display_data"
    },
    {
     "name": "stdout",
     "output_type": "stream",
     "text": [
      "Model prediction: amp_horz\n"
     ]
    }
   ],
   "source": [
    "# Predict single images\n",
    "n_images = 100\n",
    "# Get images from test set\n",
    "test_images = mnist.test.images[:n_images]\n",
    "# Prepare the input data\n",
    "input_fn = tf.estimator.inputs.numpy_input_fn(\n",
    "    x={'images': test_images}, shuffle=False)\n",
    "# Use the model to predict the images class\n",
    "preds = list(model.predict(input_fn))\n",
    "\n",
    "# Display\n",
    "for i in range(n_images):\n",
    "    if preds[i] == 0:\n",
    "        plt.imshow(np.reshape(test_images[i], [28, 28]), cmap='gray')\n",
    "        plt.show()\n",
    "        print(\"Model prediction:\", class_names[preds[i]])"
   ]
  },
  {
   "cell_type": "code",
   "execution_count": 12,
   "metadata": {},
   "outputs": [],
   "source": [
    "class_names =['amp_horz', 'amp_vert', 'batt_horz_neg', 'batt_horz_pos', 'batt_vert_neg', 'batt_vert_pos', 'cap_horz', 'cap_vert', 'led_horz_neg', 'led_horz_pos', 'led_vert_neg' ,'led_vert_pos', 'res_horz', 'res_vert', 'trans_horz_pos', 'trans_vert_neg', 'trans_vert_pos', 'volt_horz', 'volt_vert']"
   ]
  },
  {
   "cell_type": "code",
   "execution_count": 69,
   "metadata": {},
   "outputs": [
    {
     "name": "stdout",
     "output_type": "stream",
     "text": [
      "[12 12  7 ...  8  5  3]\n"
     ]
    }
   ],
   "source": [
    "y_train = mnist.train.labels[:]\n",
    "y_test = mnist.test.labels[:]\n",
    "print (y_test)"
   ]
  },
  {
   "cell_type": "code",
   "execution_count": 28,
   "metadata": {},
   "outputs": [
    {
     "name": "stdout",
     "output_type": "stream",
     "text": [
      "18\n"
     ]
    }
   ],
   "source": [
    "print(max(y_test))"
   ]
  },
  {
   "cell_type": "code",
   "execution_count": 29,
   "metadata": {},
   "outputs": [
    {
     "name": "stdout",
     "output_type": "stream",
     "text": [
      "0\n"
     ]
    }
   ],
   "source": [
    "print(min(y_test))"
   ]
  },
  {
   "cell_type": "code",
   "execution_count": 72,
   "metadata": {},
   "outputs": [],
   "source": [
    "def display_digit(num):\n",
    "    print(y_train[num])\n",
    "    label = y_train[num]\n",
    "    image = x_train[num].reshape([28,28])\n",
    "    plt.title('Example: %d  Label: %d' % (num, label))\n",
    "    plt.imshow(image, cmap=plt.get_cmap('gray_r'))\n",
    "    plt.show()\n",
    "\n",
    "def display_mult_flat(start, stop):\n",
    "    images = x_train[start].reshape([1,784])\n",
    "    for i in range(start+1,stop):\n",
    "        images = np.concatenate((images, x_train[i].reshape([1,784])))\n",
    "    plt.imshow(images, cmap=plt.get_cmap('gray_r'))\n",
    "    plt.show()"
   ]
  },
  {
   "cell_type": "code",
   "execution_count": 91,
   "metadata": {},
   "outputs": [
    {
     "name": "stdout",
     "output_type": "stream",
     "text": [
      "7\n"
     ]
    },
    {
     "data": {
      "image/png": "[encoded data removed]",
      "text/plain": [
       "<Figure size 432x288 with 1 Axes>"
      ]
     },
     "metadata": {
      "needs_background": "light"
     },
     "output_type": "display_data"
    }
   ],
   "source": [
    "display_digit(0)"
   ]
  },
  {
   "cell_type": "code",
   "execution_count": 61,
   "metadata": {},
   "outputs": [],
   "source": [
    "import random as ran"
   ]
  },
  {
   "cell_type": "code",
   "execution_count": 62,
   "metadata": {},
   "outputs": [],
   "source": [
    "def TRAIN_SIZE(num):\n",
    "    print ('Total Training Images in Dataset = ' + str(mnist.train.images.shape))\n",
    "    print ('--------------------------------------------------')\n",
    "    x_train = mnist.train.images[:num,:]\n",
    "    print ('x_train Examples Loaded = ' + str(x_train.shape))\n",
    "    print('')\n",
    "    return x_train\n",
    "\n",
    "def TEST_SIZE(num):\n",
    "    print ('Total Test Examples in Dataset = ' + str(mnist.test.images.shape))\n",
    "    print ('--------------------------------------------------')\n",
    "    x_test = mnist.test.images[:num,:]\n",
    "    print ('x_test Examples Loaded = ' + str(x_test.shape))\n",
    "    return x_test"
   ]
  },
  {
   "cell_type": "code",
   "execution_count": 66,
   "metadata": {},
   "outputs": [
    {
     "name": "stdout",
     "output_type": "stream",
     "text": [
      "Total Training Images in Dataset = (1871, 784)\n",
      "--------------------------------------------------\n",
      "x_train Examples Loaded = (1871, 784)\n",
      "\n"
     ]
    }
   ],
   "source": [
    "x_train = TRAIN_SIZE(None)"
   ]
  },
  {
   "cell_type": "code",
   "execution_count": 67,
   "metadata": {},
   "outputs": [
    {
     "name": "stdout",
     "output_type": "stream",
     "text": [
      "Total Test Examples in Dataset = (2889, 784)\n",
      "--------------------------------------------------\n",
      "x_test Examples Loaded = (2889, 784)\n"
     ]
    }
   ],
   "source": [
    "x_test = TEST_SIZE(None)"
   ]
  },
  {
   "cell_type": "code",
   "execution_count": 80,
   "metadata": {
    "scrolled": true
   },
   "outputs": [
    {
     "data": {
      "image/png": "[encoded data removed]",
      "text/plain": [
       "<Figure size 432x288 with 1 Axes>"
      ]
     },
     "metadata": {
      "needs_background": "light"
     },
     "output_type": "display_data"
    }
   ],
   "source": [
    "display_mult_flat(18,400)"
   ]
  },
  {
   "cell_type": "code",
   "execution_count": 135,
   "metadata": {},
   "outputs": [
    {
     "data": {
      "text/plain": [
       "array([0.00392157, 0.        , 0.00392157, 0.        , 0.        ,\n",
       "       0.        , 0.00392157, 0.00392157, 0.00392157, 0.        ,\n",
       "       0.00392157, 0.00392157, 0.00392157, 0.00784314, 0.01176471,\n",
       "       0.00392157, 0.        , 0.00392157, 0.00392157, 0.00392157,\n",
       "       0.00392157, 0.        , 0.00392157, 0.00392157, 0.        ,\n",
       "       0.00392157, 0.        , 0.00784314, 0.        , 0.        ,\n",
       "       0.        , 0.        , 0.        , 0.        , 0.        ,\n",
       "       0.        , 0.        , 0.        , 0.        , 0.        ,\n",
       "       0.        , 0.        , 0.00392157, 0.        , 0.        ,\n",
       "       0.        , 0.        , 0.        , 0.        , 0.        ,\n",
       "       0.        , 0.        , 0.        , 0.        , 0.        ,\n",
       "       0.        , 0.        , 0.        , 0.        , 0.        ,\n",
       "       0.        , 0.        , 0.        , 0.        , 0.        ,\n",
       "       0.        , 0.        , 0.        , 0.        , 0.        ,\n",
       "       0.00392157, 0.        , 0.        , 0.        , 0.        ,\n",
       "       0.        , 0.        , 0.        , 0.        , 0.        ,\n",
       "       0.        , 0.        , 0.        , 0.        , 0.        ,\n",
       "       0.        , 0.        , 0.        , 0.        , 0.        ,\n",
       "       0.        , 0.        , 0.        , 0.        , 0.        ,\n",
       "       0.        , 0.        , 0.        , 0.        , 0.        ,\n",
       "       0.        , 0.        , 0.        , 0.        , 0.        ,\n",
       "       0.        , 0.        , 0.        , 0.00392157, 0.        ,\n",
       "       0.        , 0.        , 0.        , 0.        , 0.        ,\n",
       "       0.        , 0.        , 0.        , 0.        , 0.        ,\n",
       "       0.        , 0.        , 0.        , 0.        , 0.        ,\n",
       "       0.        , 0.        , 0.        , 0.        , 0.        ,\n",
       "       0.        , 0.        , 0.        , 0.        , 0.        ,\n",
       "       0.        , 0.        , 0.        , 0.        , 0.        ,\n",
       "       0.        , 0.        , 0.        , 0.        , 0.        ,\n",
       "       0.        , 0.        , 0.        , 0.        , 0.        ,\n",
       "       0.        , 0.        , 0.        , 0.        , 0.        ,\n",
       "       0.00392157, 0.        , 0.        , 0.        , 0.        ,\n",
       "       0.        , 0.        , 0.        , 0.        , 0.        ,\n",
       "       0.        , 0.        , 0.        , 0.        , 0.        ,\n",
       "       0.        , 0.00392157, 0.        , 0.        , 0.        ,\n",
       "       0.        , 0.        , 0.        , 0.        , 0.        ,\n",
       "       0.        , 0.        , 0.        , 0.        , 0.        ,\n",
       "       0.        , 0.        , 0.        , 0.        , 0.        ,\n",
       "       0.00392157, 0.00392157, 0.        , 0.        , 0.        ,\n",
       "       0.        , 0.        , 0.        , 0.        , 0.        ,\n",
       "       0.        , 0.        , 0.        , 0.        , 0.        ,\n",
       "       0.00392157, 0.00392157, 0.        , 0.00392157, 0.00392157,\n",
       "       0.        , 0.        , 0.00392157, 0.        , 0.        ,\n",
       "       0.        , 0.        , 0.00392157, 0.00392157, 0.00784314,\n",
       "       0.        , 0.        , 0.        , 0.        , 0.        ,\n",
       "       0.        , 0.        , 0.        , 0.        , 0.        ,\n",
       "       0.        , 0.        , 0.00392157, 0.        , 0.        ,\n",
       "       0.00392157, 0.00392157, 0.00392157, 0.00784314, 0.00392157,\n",
       "       0.00392157, 0.00784314, 0.00392157, 0.00392157, 0.00784314,\n",
       "       0.        , 0.        , 0.        , 0.00392157, 0.        ,\n",
       "       0.        , 0.        , 0.        , 0.        , 0.        ,\n",
       "       0.        , 0.        , 0.        , 0.00392157, 0.00784314,\n",
       "       0.00392157, 0.14117648, 0.10980393, 0.        , 0.04313726,\n",
       "       0.09019608, 0.00392157, 0.01176471, 0.05882353, 0.00784314,\n",
       "       0.00784314, 0.00392157, 0.        , 0.00784314, 0.00392157,\n",
       "       0.        , 0.        , 0.00392157, 0.        , 0.        ,\n",
       "       0.        , 0.        , 0.        , 0.        , 0.        ,\n",
       "       0.        , 0.00784314, 0.        , 0.14509805, 0.6313726 ,\n",
       "       0.5921569 , 0.09411766, 0.4156863 , 0.58431375, 0.07058824,\n",
       "       0.14117648, 0.57254905, 0.21568629, 0.        , 0.04705883,\n",
       "       0.17254902, 0.01568628, 0.00784314, 0.00784314, 0.00392157,\n",
       "       0.00392157, 0.00392157, 0.00392157, 0.00784314, 0.00784314,\n",
       "       0.00784314, 0.00784314, 0.00784314, 0.00392157, 0.02352941,\n",
       "       0.        , 0.34117648, 0.64705884, 0.56078434, 0.18823531,\n",
       "       0.59607846, 0.6627451 , 0.2392157 , 0.32156864, 0.6784314 ,\n",
       "       0.5019608 , 0.        , 0.34901962, 0.6745098 , 0.23137257,\n",
       "       0.        , 0.01176471, 0.00392157, 0.        , 0.00392157,\n",
       "       0.00392157, 0.        , 0.        , 0.        , 0.        ,\n",
       "       0.        , 0.00392157, 0.        , 0.10196079, 0.57254905,\n",
       "       0.61960787, 0.5294118 , 0.3254902 , 0.61960787, 0.6392157 ,\n",
       "       0.36862746, 0.4039216 , 0.63529414, 0.59607846, 0.08235294,\n",
       "       0.3921569 , 0.6784314 , 0.48627454, 0.14901961, 0.10980393,\n",
       "       0.05490196, 0.04705883, 0.05882353, 0.08627451, 0.34901962,\n",
       "       0.4039216 , 0.3647059 , 0.30980393, 0.21960786, 0.15294118,\n",
       "       0.20000002, 0.5254902 , 0.62352943, 0.58431375, 0.54509807,\n",
       "       0.49411768, 0.56078434, 0.46274513, 0.58431375, 0.58431375,\n",
       "       0.5529412 , 0.6117647 , 0.20000002, 0.3803922 , 0.654902  ,\n",
       "       0.60784316, 0.6117647 , 0.5529412 , 0.5294118 , 0.54509807,\n",
       "       0.5568628 , 0.5686275 , 0.6862745 , 0.68235296, 0.68235296,\n",
       "       0.64705884, 0.61960787, 0.62352943, 0.6745098 , 0.67058825,\n",
       "       0.5803922 , 0.37647063, 0.6       , 0.63529414, 0.427451  ,\n",
       "       0.22352943, 0.6       , 0.6039216 , 0.4039216 , 0.54901963,\n",
       "       0.45882356, 0.45882356, 0.6431373 , 0.65882355, 0.5882353 ,\n",
       "       0.54509807, 0.54901963, 0.5647059 , 0.57254905, 0.5529412 ,\n",
       "       0.3529412 , 0.4039216 , 0.2784314 , 0.34117648, 0.41176474,\n",
       "       0.47450984, 0.47450984, 0.5647059 , 0.43529415, 0.1764706 ,\n",
       "       0.6156863 , 0.6627451 , 0.3803922 , 0.02352941, 0.5411765 ,\n",
       "       0.6666667 , 0.34901962, 0.32941177, 0.6431373 , 0.60784316,\n",
       "       0.39607847, 0.21568629, 0.10588236, 0.0509804 , 0.06666667,\n",
       "       0.05882353, 0.05490196, 0.05490196, 0.        , 0.        ,\n",
       "       0.        , 0.        , 0.        , 0.00392157, 0.        ,\n",
       "       0.04313726, 0.02745098, 0.0509804 , 0.5764706 , 0.6745098 ,\n",
       "       0.22352943, 0.        , 0.38431376, 0.7176471 , 0.25882354,\n",
       "       0.03921569, 0.5764706 , 0.6901961 , 0.30588236, 0.        ,\n",
       "       0.01176471, 0.        , 0.        , 0.        , 0.        ,\n",
       "       0.        , 0.00784314, 0.00784314, 0.01176471, 0.00784314,\n",
       "       0.00784314, 0.00392157, 0.00784314, 0.        , 0.00784314,\n",
       "       0.        , 0.20392159, 0.22352943, 0.02352941, 0.        ,\n",
       "       0.16470589, 0.4431373 , 0.05882353, 0.        , 0.26666668,\n",
       "       0.47058827, 0.07450981, 0.00784314, 0.00784314, 0.00392157,\n",
       "       0.00784314, 0.00392157, 0.00392157, 0.00392157, 0.        ,\n",
       "       0.        , 0.        , 0.        , 0.        , 0.        ,\n",
       "       0.        , 0.00392157, 0.00392157, 0.01176471, 0.00392157,\n",
       "       0.        , 0.00392157, 0.01176471, 0.00784314, 0.00392157,\n",
       "       0.00784314, 0.01176471, 0.        , 0.        , 0.00784314,\n",
       "       0.01176471, 0.        , 0.        , 0.00392157, 0.        ,\n",
       "       0.        , 0.        , 0.        , 0.        , 0.        ,\n",
       "       0.        , 0.        , 0.00392157, 0.        , 0.        ,\n",
       "       0.        , 0.        , 0.00784314, 0.00784314, 0.00392157,\n",
       "       0.00784314, 0.00784314, 0.01176471, 0.00392157, 0.        ,\n",
       "       0.01176471, 0.01176471, 0.00392157, 0.        , 0.        ,\n",
       "       0.        , 0.        , 0.        , 0.        , 0.        ,\n",
       "       0.        , 0.        , 0.        , 0.        , 0.        ,\n",
       "       0.00392157, 0.        , 0.        , 0.        , 0.        ,\n",
       "       0.        , 0.        , 0.        , 0.        , 0.        ,\n",
       "       0.        , 0.        , 0.00392157, 0.00392157, 0.        ,\n",
       "       0.        , 0.        , 0.        , 0.        , 0.        ,\n",
       "       0.        , 0.        , 0.        , 0.        , 0.        ,\n",
       "       0.        , 0.        , 0.        , 0.        , 0.        ,\n",
       "       0.        , 0.        , 0.        , 0.        , 0.        ,\n",
       "       0.00392157, 0.        , 0.        , 0.        , 0.        ,\n",
       "       0.00392157, 0.        , 0.        , 0.        , 0.        ,\n",
       "       0.        , 0.        , 0.        , 0.        , 0.        ,\n",
       "       0.        , 0.        , 0.        , 0.        , 0.        ,\n",
       "       0.        , 0.        , 0.00392157, 0.        , 0.        ,\n",
       "       0.        , 0.        , 0.        , 0.        , 0.00392157,\n",
       "       0.        , 0.        , 0.        , 0.        , 0.        ,\n",
       "       0.        , 0.        , 0.        , 0.        , 0.        ,\n",
       "       0.        , 0.        , 0.        , 0.        , 0.        ,\n",
       "       0.        , 0.        , 0.        , 0.        , 0.        ,\n",
       "       0.        , 0.        , 0.        , 0.        , 0.        ,\n",
       "       0.        , 0.00392157, 0.        , 0.        , 0.        ,\n",
       "       0.        , 0.00392157, 0.        , 0.        , 0.        ,\n",
       "       0.        , 0.        , 0.        , 0.        , 0.        ,\n",
       "       0.        , 0.        , 0.        , 0.        , 0.        ,\n",
       "       0.        , 0.        , 0.        , 0.        , 0.        ,\n",
       "       0.        , 0.        , 0.        , 0.        , 0.        ,\n",
       "       0.        , 0.        , 0.        , 0.        , 0.        ,\n",
       "       0.        , 0.        , 0.        , 0.        , 0.        ,\n",
       "       0.        , 0.        , 0.        , 0.        , 0.        ,\n",
       "       0.        , 0.        , 0.        , 0.        , 0.        ,\n",
       "       0.        , 0.        , 0.        , 0.        , 0.        ,\n",
       "       0.        , 0.        , 0.        , 0.        , 0.        ,\n",
       "       0.        , 0.        , 0.        , 0.        , 0.        ,\n",
       "       0.        , 0.        , 0.        , 0.        , 0.        ,\n",
       "       0.        , 0.        , 0.        , 0.        , 0.        ,\n",
       "       0.        , 0.        , 0.        , 0.        , 0.        ,\n",
       "       0.        , 0.        , 0.        , 0.        , 0.        ,\n",
       "       0.        , 0.        , 0.        , 0.        , 0.        ,\n",
       "       0.        , 0.        , 0.        , 0.        , 0.        ,\n",
       "       0.        , 0.        , 0.        , 0.        , 0.        ,\n",
       "       0.        , 0.        , 0.        , 0.        , 0.        ,\n",
       "       0.        , 0.        , 0.        , 0.        , 0.        ,\n",
       "       0.        , 0.        , 0.        , 0.        , 0.        ,\n",
       "       0.        , 0.        , 0.        , 0.        , 0.        ,\n",
       "       0.        , 0.        , 0.        , 0.        , 0.        ,\n",
       "       0.        , 0.        , 0.        , 0.        ], dtype=float32)"
      ]
     },
     "execution_count": 135,
     "metadata": {},
     "output_type": "execute_result"
    }
   ],
   "source": [
    "mnist.test.images[1]"
   ]
  },
  {
   "cell_type": "code",
   "execution_count": 23,
   "metadata": {},
   "outputs": [
    {
     "name": "stdout",
     "output_type": "stream",
     "text": [
      "INFO:tensorflow:Calling model_fn.\n",
      "INFO:tensorflow:Done calling model_fn.\n",
      "INFO:tensorflow:Graph was finalized.\n",
      "INFO:tensorflow:Restoring parameters from C:\\Users\\amita\\AppData\\Local\\Temp\\tmpijzm4ahh\\model.ckpt-500\n",
      "INFO:tensorflow:Running local_init_op.\n",
      "INFO:tensorflow:Done running local_init_op.\n"
     ]
    }
   ],
   "source": [
    "input_fn = tf.estimator.inputs.numpy_input_fn(\n",
    "    x={'images': np.array([np.asarray(x, dtype=np.float32)])}, shuffle=False) # x is normal array or list of pixel values\n",
    "# Use the model to predict the images class\n",
    "preds = list(model.predict(input_fn))"
   ]
  },
  {
   "cell_type": "code",
   "execution_count": 24,
   "metadata": {},
   "outputs": [
    {
     "name": "stdout",
     "output_type": "stream",
     "text": [
      "[7]\n"
     ]
    }
   ],
   "source": [
    "print(preds)"
   ]
  },
  {
   "cell_type": "code",
   "execution_count": 119,
   "metadata": {},
   "outputs": [
    {
     "name": "stdout",
     "output_type": "stream",
     "text": [
      "(784,)\n"
     ]
    }
   ],
   "source": [
    "print(np.asarray(mnist.test.images[2], dtype=np.float32).shape)"
   ]
  },
  {
   "cell_type": "code",
   "execution_count": 124,
   "metadata": {},
   "outputs": [],
   "source": [
    "x = np.empty([0, 784])"
   ]
  },
  {
   "cell_type": "code",
   "execution_count": 139,
   "metadata": {},
   "outputs": [
    {
     "name": "stdout",
     "output_type": "stream",
     "text": [
      "[0.00392157, 0.0, 0.00392157, 0.0, 0.0, 0.0, 0.00392157, 0.00392157, 0.00392157, 0.0, 0.00392157, 0.00392157, 0.00392157, 0.00784314, 0.01176471, 0.00392157, 0.0, 0.00392157, 0.00392157, 0.00392157, 0.00392157, 0.0, 0.00392157, 0.00392157, 0.0, 0.00392157, 0.0, 0.00784314, 0.0, 0.0, 0.0, 0.0, 0.0, 0.0, 0.0, 0.0, 0.0, 0.0, 0.0, 0.0, 0.0, 0.0, 0.00392157, 0.0, 0.0, 0.0, 0.0, 0.0, 0.0, 0.0, 0.0, 0.0, 0.0, 0.0, 0.0, 0.0, 0.0, 0.0, 0.0, 0.0, 0.0, 0.0, 0.0, 0.0, 0.0, 0.0, 0.0, 0.0, 0.0, 0.0, 0.00392157, 0.0, 0.0, 0.0, 0.0, 0.0, 0.0, 0.0, 0.0, 0.0, 0.0, 0.0, 0.0, 0.0, 0.0, 0.0, 0.0, 0.0, 0.0, 0.0, 0.0, 0.0, 0.0, 0.0, 0.0, 0.0, 0.0, 0.0, 0.0, 0.0, 0.0, 0.0, 0.0, 0.0, 0.0, 0.0, 0.0, 0.0, 0.00392157, 0.0, 0.0, 0.0, 0.0, 0.0, 0.0, 0.0, 0.0, 0.0, 0.0, 0.0, 0.0, 0.0, 0.0, 0.0, 0.0, 0.0, 0.0, 0.0, 0.0, 0.0, 0.0, 0.0, 0.0, 0.0, 0.0, 0.0, 0.0, 0.0, 0.0, 0.0, 0.0, 0.0, 0.0, 0.0, 0.0, 0.0, 0.0, 0.0, 0.0, 0.0, 0.0, 0.0, 0.0, 0.0, 0.0, 0.00392157, 0.0, 0.0, 0.0, 0.0, 0.0, 0.0, 0.0, 0.0, 0.0, 0.0, 0.0, 0.0, 0.0, 0.0, 0.0, 0.00392157, 0.0, 0.0, 0.0, 0.0, 0.0, 0.0, 0.0, 0.0, 0.0, 0.0, 0.0, 0.0, 0.0, 0.0, 0.0, 0.0, 0.0, 0.0, 0.00392157, 0.00392157, 0.0, 0.0, 0.0, 0.0, 0.0, 0.0, 0.0, 0.0, 0.0, 0.0, 0.0, 0.0, 0.0, 0.00392157, 0.00392157, 0.0, 0.00392157, 0.00392157, 0.0, 0.0, 0.00392157, 0.0, 0.0, 0.0, 0.0, 0.00392157, 0.00392157, 0.00784314, 0.0, 0.0, 0.0, 0.0, 0.0, 0.0, 0.0, 0.0, 0.0, 0.0, 0.0, 0.0, 0.00392157, 0.0, 0.0, 0.00392157, 0.00392157, 0.00392157, 0.00784314, 0.00392157, 0.00392157, 0.00784314, 0.00392157, 0.00392157, 0.00784314, 0.0, 0.0, 0.0, 0.00392157, 0.0, 0.0, 0.0, 0.0, 0.0, 0.0, 0.0, 0.0, 0.0, 0.00392157, 0.00784314, 0.00392157, 0.14117648, 0.10980393, 0.0, 0.04313726, 0.09019608, 0.00392157, 0.01176471, 0.05882353, 0.00784314, 0.00784314, 0.00392157, 0.0, 0.00784314, 0.00392157, 0.0, 0.0, 0.00392157, 0.0, 0.0, 0.0, 0.0, 0.0, 0.0, 0.0, 0.0, 0.00784314, 0.0, 0.14509805, 0.6313726, 0.5921569, 0.09411766, 0.4156863, 0.58431375, 0.07058824, 0.14117648, 0.57254905, 0.21568629, 0.0, 0.04705883, 0.17254902, 0.01568628, 0.00784314, 0.00784314, 0.00392157, 0.00392157, 0.00392157, 0.00392157, 0.00784314, 0.00784314, 0.00784314, 0.00784314, 0.00784314, 0.00392157, 0.02352941, 0.0, 0.34117648, 0.64705884, 0.56078434, 0.18823531, 0.59607846, 0.6627451, 0.2392157, 0.32156864, 0.6784314, 0.5019608, 0.0, 0.34901962, 0.6745098, 0.23137257, 0.0, 0.01176471, 0.00392157, 0.0, 0.00392157, 0.00392157, 0.0, 0.0, 0.0, 0.0, 0.0, 0.00392157, 0.0, 0.10196079, 0.57254905, 0.61960787, 0.5294118, 0.3254902, 0.61960787, 0.6392157, 0.36862746, 0.4039216, 0.63529414, 0.59607846, 0.08235294, 0.3921569, 0.6784314, 0.48627454, 0.14901961, 0.10980393, 0.05490196, 0.04705883, 0.05882353, 0.08627451, 0.34901962, 0.4039216, 0.3647059, 0.30980393, 0.21960786, 0.15294118, 0.20000002, 0.5254902, 0.62352943, 0.58431375, 0.54509807, 0.49411768, 0.56078434, 0.46274513, 0.58431375, 0.58431375, 0.5529412, 0.6117647, 0.20000002, 0.3803922, 0.654902, 0.60784316, 0.6117647, 0.5529412, 0.5294118, 0.54509807, 0.5568628, 0.5686275, 0.6862745, 0.68235296, 0.68235296, 0.64705884, 0.61960787, 0.62352943, 0.6745098, 0.67058825, 0.5803922, 0.37647063, 0.6, 0.63529414, 0.427451, 0.22352943, 0.6, 0.6039216, 0.4039216, 0.54901963, 0.45882356, 0.45882356, 0.6431373, 0.65882355, 0.5882353, 0.54509807, 0.54901963, 0.5647059, 0.57254905, 0.5529412, 0.3529412, 0.4039216, 0.2784314, 0.34117648, 0.41176474, 0.47450984, 0.47450984, 0.5647059, 0.43529415, 0.1764706, 0.6156863, 0.6627451, 0.3803922, 0.02352941, 0.5411765, 0.6666667, 0.34901962, 0.32941177, 0.6431373, 0.60784316, 0.39607847, 0.21568629, 0.10588236, 0.0509804, 0.06666667, 0.05882353, 0.05490196, 0.05490196, 0.0, 0.0, 0.0, 0.0, 0.0, 0.00392157, 0.0, 0.04313726, 0.02745098, 0.0509804, 0.5764706, 0.6745098, 0.22352943, 0.0, 0.38431376, 0.7176471, 0.25882354, 0.03921569, 0.5764706, 0.6901961, 0.30588236, 0.0, 0.01176471, 0.0, 0.0, 0.0, 0.0, 0.0, 0.00784314, 0.00784314, 0.01176471, 0.00784314, 0.00784314, 0.00392157, 0.00784314, 0.0, 0.00784314, 0.0, 0.20392159, 0.22352943, 0.02352941, 0.0, 0.16470589, 0.4431373, 0.05882353, 0.0, 0.26666668, 0.47058827, 0.07450981, 0.00784314, 0.00784314, 0.00392157, 0.00784314, 0.00392157, 0.00392157, 0.00392157, 0.0, 0.0, 0.0, 0.0, 0.0, 0.0, 0.0, 0.00392157, 0.00392157, 0.01176471, 0.00392157, 0.0, 0.00392157, 0.01176471, 0.00784314, 0.00392157, 0.00784314, 0.01176471, 0.0, 0.0, 0.00784314, 0.01176471, 0.0, 0.0, 0.00392157, 0.0, 0.0, 0.0, 0.0, 0.0, 0.0, 0.0, 0.0, 0.00392157, 0.0, 0.0, 0.0, 0.0, 0.00784314, 0.00784314, 0.00392157, 0.00784314, 0.00784314, 0.01176471, 0.00392157, 0.0, 0.01176471, 0.01176471, 0.00392157, 0.0, 0.0, 0.0, 0.0, 0.0, 0.0, 0.0, 0.0, 0.0, 0.0, 0.0, 0.0, 0.00392157, 0.0, 0.0, 0.0, 0.0, 0.0, 0.0, 0.0, 0.0, 0.0, 0.0, 0.0, 0.00392157, 0.00392157, 0.0, 0.0, 0.0, 0.0, 0.0, 0.0, 0.0, 0.0, 0.0, 0.0, 0.0, 0.0, 0.0, 0.0, 0.0, 0.0, 0.0, 0.0, 0.0, 0.0, 0.0, 0.00392157, 0.0, 0.0, 0.0, 0.0, 0.00392157, 0.0, 0.0, 0.0, 0.0, 0.0, 0.0, 0.0, 0.0, 0.0, 0.0, 0.0, 0.0, 0.0, 0.0, 0.0, 0.0, 0.00392157, 0.0, 0.0, 0.0, 0.0, 0.0, 0.0, 0.00392157, 0.0, 0.0, 0.0, 0.0, 0.0, 0.0, 0.0, 0.0, 0.0, 0.0, 0.0, 0.0, 0.0, 0.0, 0.0, 0.0, 0.0, 0.0, 0.0, 0.0, 0.0, 0.0, 0.0, 0.0, 0.0, 0.0, 0.00392157, 0.0, 0.0, 0.0, 0.0, 0.00392157, 0.0, 0.0, 0.0, 0.0, 0.0, 0.0, 0.0, 0.0, 0.0, 0.0, 0.0, 0.0, 0.0, 0.0, 0.0, 0.0, 0.0, 0.0, 0.0, 0.0, 0.0, 0.0, 0.0, 0.0, 0.0, 0.0, 0.0, 0.0, 0.0, 0.0, 0.0, 0.0, 0.0, 0.0, 0.0, 0.0, 0.0, 0.0, 0.0, 0.0, 0.0, 0.0, 0.0, 0.0, 0.0, 0.0, 0.0, 0.0, 0.0, 0.0, 0.0, 0.0, 0.0, 0.0, 0.0, 0.0, 0.0, 0.0, 0.0, 0.0, 0.0, 0.0, 0.0, 0.0, 0.0, 0.0, 0.0, 0.0, 0.0, 0.0, 0.0, 0.0, 0.0, 0.0, 0.0, 0.0, 0.0, 0.0, 0.0, 0.0, 0.0, 0.0, 0.0, 0.0, 0.0, 0.0, 0.0, 0.0, 0.0, 0.0, 0.0, 0.0, 0.0, 0.0, 0.0, 0.0, 0.0, 0.0, 0.0, 0.0, 0.0, 0.0, 0.0, 0.0, 0.0, 0.0, 0.0, 0.0, 0.0, 0.0, 0.0, 0.0, 0.0, 0.0, 0.0, 0.0, 0.0, 0.0, 0.0, 0.0, 0.0, 0.0] <class 'list'>\n"
     ]
    }
   ],
   "source": [
    "print(x, type(x))"
   ]
  },
  {
   "cell_type": "code",
   "execution_count": 25,
   "metadata": {},
   "outputs": [
    {
     "name": "stdout",
     "output_type": "stream",
     "text": [
      "INFO:tensorflow:Calling model_fn.\n",
      "INFO:tensorflow:Done calling model_fn.\n",
      "INFO:tensorflow:Graph was finalized.\n",
      "INFO:tensorflow:Restoring parameters from C:\\Users\\amita\\AppData\\Local\\Temp\\tmpijzm4ahh\\model.ckpt-500\n",
      "INFO:tensorflow:Running local_init_op.\n",
      "INFO:tensorflow:Done running local_init_op.\n",
      "cap_vert\n"
     ]
    }
   ],
   "source": [
    "input_fn = tf.estimator.inputs.numpy_input_fn(\n",
    "    x={'images': np.array([np.asarray(x, dtype=np.float32)])}, shuffle=False) # x is normal array or list of pixel values\n",
    "# Use the model to predict the images class\n",
    "preds = list(model.predict(input_fn))\n",
    "print(class_names[preds[0]])"
   ]
  },
  {
   "cell_type": "code",
   "execution_count": 11,
   "metadata": {},
   "outputs": [
    {
     "name": "stdout",
     "output_type": "stream",
     "text": [
      "784\n"
     ]
    }
   ],
   "source": [
    "import cv2\n",
    "import os\n",
    "\n",
    "oriimg =cv2.imread('./testImg_cap_vert.png', 0)\n",
    "resized_img = cv2.resize(oriimg,(28, 28))\n",
    "# inverted_img = cv2.bitwise_not(resized_img)\n",
    "\n",
    "# cv2.imshow('inverted_img',resized_img)\n",
    "rows,cols = resized_img.shape\n",
    "x=[]\n",
    "\n",
    "for i in range(rows):\n",
    "    for j in range(cols):\n",
    "        x.append(resized_img[i,j])\n",
    "\n",
    "print(len(x))\n",
    "        \n",
    "# k = cv2.waitKey(0) & 0xFF\n",
    "# cv2.destroyAllWindows()"
   ]
  },
  {
   "cell_type": "code",
   "execution_count": 14,
   "metadata": {},
   "outputs": [],
   "source": [
    "def classify(img):\n",
    "    import cv2\n",
    "\n",
    "    img = cv2.cvtColor(img, cv2.COLOR_BGR2GRAY)\n",
    "    \n",
    "    resized_img = cv2.resize(img,(28, 28))\n",
    "    # inverted_img = cv2.bitwise_not(resized_img)\n",
    "    \n",
    "    rows,cols = resized_img.shape\n",
    "    x=[]\n",
    "\n",
    "    for i in range(rows):\n",
    "        for j in range(cols):\n",
    "            x.append(resized_img[i,j])\n",
    "    \n",
    "    return get_class(x)\n",
    "\n",
    "    \n",
    "def get_class(x):\n",
    "    input_fn = tf.estimator.inputs.numpy_input_fn(\n",
    "    x={'images': np.array([np.asarray(x, dtype=np.float32)])}, shuffle=False) # x is normal array or list of pixel values\n",
    "    # Use the model to predict the images class\n",
    "    preds = list(model.predict(input_fn))\n",
    "    \n",
    "    return class_names[preds[0]] \n",
    "    \n",
    "    # k = cv2.waitKey(0) & 0xFF\n",
    "    # cv2.destroyAllWindows()"
   ]
  },
  {
   "cell_type": "code",
   "execution_count": 15,
   "metadata": {},
   "outputs": [
    {
     "name": "stdout",
     "output_type": "stream",
     "text": [
      "INFO:tensorflow:Calling model_fn.\n",
      "INFO:tensorflow:Done calling model_fn.\n",
      "INFO:tensorflow:Graph was finalized.\n",
      "INFO:tensorflow:Restoring parameters from C:\\Users\\amita\\AppData\\Local\\Temp\\tmp8r232f9j\\model.ckpt-500\n",
      "INFO:tensorflow:Running local_init_op.\n",
      "INFO:tensorflow:Done running local_init_op.\n",
      "cap_vert\n"
     ]
    }
   ],
   "source": [
    "import cv2\n",
    "import os\n",
    "\n",
    "oriimg =cv2.imread('./testImg_cap_vert.png',1)\n",
    "\n",
    "print(classify(oriimg))"
   ]
  },
  {
   "cell_type": "code",
   "execution_count": null,
   "metadata": {},
   "outputs": [],
   "source": []
  }
 ],
 "metadata": {
  "kernelspec": {
   "display_name": "Python 3",
   "language": "python",
   "name": "python3"
  },
  "language_info": {
   "codemirror_mode": {
    "name": "ipython",
    "version": 3
   },
   "file_extension": ".py",
   "mimetype": "text/x-python",
   "name": "python",
   "nbconvert_exporter": "python",
   "pygments_lexer": "ipython3",
   "version": "3.6.7"
  }
 },
 "nbformat": 4,
 "nbformat_minor": 2
}
