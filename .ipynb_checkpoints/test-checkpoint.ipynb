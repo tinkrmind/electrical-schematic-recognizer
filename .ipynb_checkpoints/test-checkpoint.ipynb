{
 "cells": [
  {
   "cell_type": "code",
   "execution_count": null,
   "metadata": {},
   "outputs": [],
   "source": [
    "import cv2\n",
    "import numpy as np\n",
    "W = 500.\n",
    "\n",
    "oriimg =cv2.imread('assets/org_01.jpg',1)\n",
    "height, width, depth = oriimg.shape\n",
    "imgScale = W/width\n",
    "newX,newY = oriimg.shape[1]*imgScale, oriimg.shape[0]*imgScale\n",
    "frame = cv2.resize(oriimg,(int(newX),int(newY)))\n",
    "\n",
    "# Convert BGR to HSV\n",
    "hsv = cv2.cvtColor(frame, cv2.COLOR_BGR2HSV)\n",
    "# define range of red color in HSV\n",
    "lower_blue = np.array([0,89,190])\n",
    "upper_blue = np.array([180,255,255])\n",
    "# Threshold the HSV image to get only red colors\n",
    "mask = cv2.inRange(hsv, lower_blue, upper_blue)\n",
    "# Bitwise-AND mask and original image\n",
    "res = cv2.bitwise_and(frame,frame, mask= mask)\n",
    "\n",
    "cv2.imshow('frame',frame)\n",
    "cv2.imshow('mask',mask)\n",
    "cv2.imshow('res',res)\n",
    "\n",
    "i, contours, heirarchy = cv2.findContours(mask, cv2.RETR_EXTERNAL, cv2.CHAIN_APPROX_SIMPLE)\n",
    "    \n",
    "cont_sorted = sorted(contours, key=cv2.contourArea, reverse=True)[:]\n",
    "\n",
    "for c in cont_sorted:\n",
    "    x,y,w,h = cv2.boundingRect(c)\n",
    "    cv2.rectangle(frame,(x,y),(x+w,y+h),(0,255,0),5)\n",
    "\n",
    "cv2.imshow('frame',frame)\n",
    "\n",
    "k = cv2.waitKey(0) & 0xFF\n",
    "\n",
    "if k == 27:         # wait for ESC key to exit\n",
    "    cv2.destroyAllWindows()\n",
    "elif k == ord('s'): # wait for 's' key to save and exit\n",
    "    cv2.imwrite('messigray.png',img)\n",
    "    cv2.destroyAllWindows()"
   ]
  },
  {
   "cell_type": "code",
   "execution_count": 59,
   "metadata": {},
   "outputs": [],
   "source": [
    "img = cv2.imread('./assets/test.jpg',0)\n",
    "\n",
    "cv2.rectangle(img,(0,0),(10,10),(0,0,255),5)\n",
    "\n",
    "cv2.imshow('image',img)\n",
    "\n",
    "k = cv2.waitKey(0)\n",
    "if k == 27:         # wait for ESC key to exit\n",
    "    cv2.destroyAllWindows()\n",
    "elif k == ord('s'): # wait for 's' key to save and exit\n",
    "    cv2.imwrite('messigray.png',img)\n",
    "    cv2.destroyAllWindows()"
   ]
  },
  {
   "cell_type": "code",
   "execution_count": null,
   "metadata": {},
   "outputs": [],
   "source": []
  }
 ],
 "metadata": {
  "kernelspec": {
   "display_name": "Python 3",
   "language": "python",
   "name": "python3"
  },
  "language_info": {
   "codemirror_mode": {
    "name": "ipython",
    "version": 3
   },
   "file_extension": ".py",
   "mimetype": "text/x-python",
   "name": "python",
   "nbconvert_exporter": "python",
   "pygments_lexer": "ipython3",
   "version": "3.7.0"
  }
 },
 "nbformat": 4,
 "nbformat_minor": 2
}
